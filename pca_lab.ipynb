{
  "nbformat": 4,
  "nbformat_minor": 0,
  "metadata": {
    "colab": {
      "provenance": []
    },
    "kernelspec": {
      "name": "python3",
      "display_name": "Python 3"
    },
    "language_info": {
      "name": "python"
    }
  },
  "cells": [
    {
      "cell_type": "markdown",
      "source": [
        "# I. Easy level"
      ],
      "metadata": {
        "id": "Vr61PXDFSdPq"
      }
    },
    {
      "cell_type": "markdown",
      "source": [
        "Для начала импортируем всё, что нам пригодится в дальнейшем"
      ],
      "metadata": {
        "id": "xVTaqc6aU9uO"
      }
    },
    {
      "cell_type": "code",
      "source": [
        "from typing import Callable, Tuple, List\n",
        "from copy import deepcopy\n",
        "import numpy as np\n",
        "from matplotlib.figure import Figure\n",
        "import matplotlib.pyplot as plt\n",
        "from sklearn.datasets import load_iris, load_wine\n",
        "from sklearn.model_selection import train_test_split\n",
        "import math\n",
        "import random"
      ],
      "metadata": {
        "id": "bt99LIwKU9El"
      },
      "execution_count": 66,
      "outputs": []
    },
    {
      "cell_type": "markdown",
      "source": [
        "Реализуем метод Гаусса для приведения заданной матрицы к ступенчатому виду (будем фиксировать изменение определителя, пригодится в дальнейшем)"
      ],
      "metadata": {
        "id": "HwLM5qFuSmiy"
      }
    },
    {
      "cell_type": "code",
      "execution_count": 67,
      "metadata": {
        "id": "uCS0R8M5je71"
      },
      "outputs": [],
      "source": [
        "def gauss(matrix: List[List[float]], epsilon: float = 1e-6) -> Tuple[List[List[float]], int]:\n",
        "    n = len(matrix)\n",
        "    m = len(matrix[0]) if n > 0 else 0\n",
        "    det_sign = 1\n",
        "    pivot_row = 0\n",
        "    rank = 0\n",
        "\n",
        "    for col in range(m):\n",
        "        # Поиск максимального элемента в столбце (с учетом epsilon)\n",
        "        max_row = None\n",
        "        max_val = 0.0\n",
        "        for row in range(pivot_row, n):\n",
        "            abs_val = abs(matrix[row][col])\n",
        "            if abs_val > max_val + epsilon:\n",
        "                max_val = abs_val\n",
        "                max_row = row\n",
        "\n",
        "        if max_row is None:\n",
        "            continue  # Пропускаем столбец, если все элементы ~0\n",
        "\n",
        "        # Перестановка строк (если нужно)\n",
        "        if max_row != pivot_row:\n",
        "            matrix[pivot_row], matrix[max_row] = matrix[max_row], matrix[pivot_row]\n",
        "            det_sign *= -1\n",
        "\n",
        "        pivot_element = matrix[pivot_row][col]\n",
        "        if abs(pivot_element) <= epsilon:\n",
        "            continue  # Ведущий элемент слишком мал, пропускаем столбец\n",
        "\n",
        "        # Зануление элементов ниже ведущего\n",
        "        for row in range(pivot_row + 1, n):\n",
        "            current_element = matrix[row][col]\n",
        "            if abs(current_element) <= epsilon:\n",
        "                matrix[row][col] = 0.0\n",
        "                continue\n",
        "\n",
        "            factor = current_element / pivot_element\n",
        "            matrix[row][col] = 0.0  # Явное обнуление\n",
        "\n",
        "            for c in range(col + 1, m):\n",
        "                matrix[row][c] -= factor * matrix[pivot_row][c]\n",
        "                if abs(matrix[row][c]) <= max(epsilon / abs(factor), epsilon, epsilon * abs(factor)):\n",
        "                    matrix[row][c] = 0.0  # Обнуляем маленькие значения\n",
        "\n",
        "        rank += 1\n",
        "        pivot_row += 1\n",
        "        if pivot_row >= n:\n",
        "            break\n",
        "\n",
        "    # Финальное зануление всех элементов, меньших epsilon\n",
        "    for row in range(n):\n",
        "        for col in range(m):\n",
        "            if abs(matrix[row][col]) <= epsilon:\n",
        "                matrix[row][col] = 0.0\n",
        "\n",
        "    return matrix, det_sign"
      ]
    },
    {
      "cell_type": "markdown",
      "source": [
        "Дополним его функций поиска ФСР однородной СЛАУ (ведь именно такие впоследствии придется решать)"
      ],
      "metadata": {
        "id": "75oPfO99S772"
      }
    },
    {
      "cell_type": "code",
      "source": [
        "def find_fsr(matrix: List[List[float]]) -> List[List[float]]:\n",
        "    n = len(matrix)  # число уравнений\n",
        "    m = len(matrix[0])  # число переменных\n",
        "\n",
        "    # Определяем ведущие переменные (первые ненулевые в каждой строке)\n",
        "    lead_vars = []\n",
        "    for r in range(n):\n",
        "        lead = 0\n",
        "        while lead < m and matrix[r][lead] == 0:\n",
        "            lead += 1\n",
        "        if lead < m:\n",
        "            lead_vars.append(lead)\n",
        "\n",
        "    # Свободные переменные - все остальные\n",
        "    free_vars = [j for j in range(m) if j not in lead_vars]\n",
        "    k = len(free_vars)  # размерность ФСР\n",
        "\n",
        "    if k == 0:\n",
        "        return []  # только нулевое решение\n",
        "\n",
        "    # Строим ФСР\n",
        "    fsr = []\n",
        "    for free in free_vars:\n",
        "        solution = [0.0] * m\n",
        "        solution[free] = 1.0  # Присваиваем свободной переменной 1\n",
        "\n",
        "        # Выражаем базисные переменные через свободные\n",
        "        for r in reversed(range(len(lead_vars))):  # Обратный порядок!\n",
        "            lead = lead_vars[r]\n",
        "            if lead < m:\n",
        "                # Суммируем только по переменным справа от ведущей\n",
        "                solution[lead] = -sum(matrix[r][j] * solution[j]\n",
        "                                      for j in range(lead + 1, m))\n",
        "\n",
        "        fsr.append(solution)\n",
        "\n",
        "    return fsr"
      ],
      "metadata": {
        "id": "gZ8tZiUHTG8P"
      },
      "execution_count": 68,
      "outputs": []
    },
    {
      "cell_type": "markdown",
      "source": [
        "Вспомогательные функции - транспонирование матрицы, получение колонки значений, перемножение матриц, получение следа матрицы, нормализация вектора"
      ],
      "metadata": {
        "id": "VgFMXYq_UEKf"
      }
    },
    {
      "cell_type": "code",
      "source": [
        "def transpose(X: List[List[float]]) -> List[List[float]]:\n",
        "    XT = [[X[j][i] for j in range(len(X))] for i in range(len(X[0]))]\n",
        "    return XT\n",
        "\n",
        "\n",
        "def get_col(X: List[List[float]], n: int) -> List[float]:\n",
        "    return [e[n] for e in X]\n",
        "\n",
        "\n",
        "def matrix_multiplication(X: List[List[float]], Y: List[List[float]]) -> List[List[float]]:\n",
        "    if len(X[0]) != len(Y):\n",
        "        raise ValueError('Невозмножно перемножить матрицы данной размерности.')\n",
        "    M = [[0 for i in range(len(Y[0]))] for j in range(len(X))]\n",
        "    for i in range(len(X)):\n",
        "        for j in range(len(Y[0])):\n",
        "            M[i][j] = sum([X[i][k] * get_col(Y, j)[k] for k in range(len(X[0]))])\n",
        "    return M\n",
        "\n",
        "\n",
        "def normalize(vec):\n",
        "    norm = sum(e**2 for e in vec) ** 0.5\n",
        "    nvec = [e/norm for e in vec]\n",
        "    return nvec\n",
        "\n",
        "\n",
        "def get_trace(A):\n",
        "    trace = sum([A[i][i] for i in range(len(A))])\n",
        "    return trace"
      ],
      "metadata": {
        "id": "AczgoZd8UJOQ"
      },
      "execution_count": 69,
      "outputs": []
    },
    {
      "cell_type": "markdown",
      "source": [
        "Две функции: взятие среднего по каждому столбцу и центрирование матрицы"
      ],
      "metadata": {
        "id": "itj9CqawTexQ"
      }
    },
    {
      "cell_type": "code",
      "source": [
        "def mean(X: List[List[float]]) -> List[float]:\n",
        "    v = [sum(get_col(X, i)) / len(X) for i in range(len(X[0]))]\n",
        "    return v\n",
        "\n",
        "\n",
        "def center_data(X: List[List[float]]) -> List[List]:\n",
        "    vec_mean = mean(X)\n",
        "    for i in range(len(X)):\n",
        "        for j in range(len(X[0])):\n",
        "            X[i][j] -= vec_mean[j]\n",
        "    return X"
      ],
      "metadata": {
        "id": "z1i90W9XTmVj"
      },
      "execution_count": 70,
      "outputs": []
    },
    {
      "cell_type": "markdown",
      "source": [
        "Считаем матрицу ковариаций"
      ],
      "metadata": {
        "id": "_NGZ_4MaUBP9"
      }
    },
    {
      "cell_type": "code",
      "source": [
        "def covariance_matrix(X_centered: List[List[float]]) -> List[List[float]]:\n",
        "    n = len(X_centered)\n",
        "    C = matrix_multiplication(transpose(X_centered), X_centered)\n",
        "    for i in range(len(C[0])):\n",
        "        for j in range(len(C[0])):\n",
        "            C[i][j] /= (n - 1)\n",
        "    return C"
      ],
      "metadata": {
        "id": "RhugL0ecUclh"
      },
      "execution_count": 71,
      "outputs": []
    },
    {
      "cell_type": "markdown",
      "source": [
        "# II. Normal level"
      ],
      "metadata": {
        "id": "QRHrLqEfUzAt"
      }
    },
    {
      "cell_type": "markdown",
      "source": [
        "Переносим наработки с лабы по матану: поиск экстремумов и корней неявно заданной функции методом дихотомии"
      ],
      "metadata": {
        "id": "eIDX6WhfU2pj"
      }
    },
    {
      "cell_type": "code",
      "source": [
        "def dichotomy_method(a: float, b: float, epsilon: float, matrix: List[List],\n",
        "                     f: Callable[[List[List], float], float]) -> float:\n",
        "    delta = epsilon / 2\n",
        "    while (b - a) > epsilon:\n",
        "        y = (a + b - delta) / 2\n",
        "        z = (a + b + delta) / 2\n",
        "        if f(matrix, y) <= f(matrix, z):\n",
        "            b = z\n",
        "        else:\n",
        "            a = y\n",
        "    x_min = (a + b) / 2\n",
        "    return x_min\n",
        "\n",
        "\n",
        "def solver(f: Callable[[List[List], float], float], matrix, a: float, b: float, epsilon: float) -> Tuple[float, int]:\n",
        "    # Проверка знаков функции на концах отрезка\n",
        "    if f(matrix, a) * f(matrix, b) > 0:\n",
        "        res = dichotomy_method(a, b, epsilon, matrix, f)\n",
        "\n",
        "        # Проверяем, есть ли корень на отрезке, иначе выбрасываем ничего\n",
        "        if any([f(matrix, res) * f(matrix, a) <= 0, f(matrix, res - epsilon / 2) * f(matrix, a) <= 0,\n",
        "                f(matrix, res + epsilon / 2) * f(matrix, a) <= 0]):\n",
        "            return solver(f, matrix, a, res, epsilon)\n",
        "        return\n",
        "\n",
        "    # Критерий остановки: если разница между концами отрезка меньше погрешности\n",
        "    if abs(b - a) < epsilon:\n",
        "        return (a + b) / 2\n",
        "\n",
        "    # Вычисляем середины отрезка с учетом погрешности\n",
        "    a1, b1 = (a + b - epsilon / 2) / 2, (a + b + epsilon / 2) / 2\n",
        "\n",
        "    # Определяем, какой из отрезков выбрать для дальнейшего поиска корня\n",
        "    tup = (a1, b) if f(matrix, a1) * f(matrix, a) > 0 else (a, b1)\n",
        "\n",
        "    return solver(f, matrix, *tup, epsilon)"
      ],
      "metadata": {
        "id": "c4X7yTnAViai"
      },
      "execution_count": 72,
      "outputs": []
    },
    {
      "cell_type": "markdown",
      "source": [
        "Ищем значение характеристического многочлена в заданной точке через Гаусса и посчет определителя"
      ],
      "metadata": {
        "id": "h7XLxhf6VmDB"
      }
    },
    {
      "cell_type": "code",
      "source": [
        "def char_polinom_value(matrix: List[List[float]], x: float) -> float:\n",
        "    a = [[matrix[i][j] if i != j else matrix[i][i] - x for j in range(len(matrix[0]))] for i in range(len(matrix))]\n",
        "    gauss_matrix, multiplier = gauss(a)\n",
        "    result = 1\n",
        "    for i in range(len(a)):\n",
        "        result *= gauss_matrix[i][i]\n",
        "    return result * multiplier"
      ],
      "metadata": {
        "id": "HBC2rIrKVlru"
      },
      "execution_count": 73,
      "outputs": []
    },
    {
      "cell_type": "markdown",
      "source": [
        "Ищем кол-во собственных значений слева от заданной точки. используя $LDL^T$ разложение матрицы, $L$ - нижнетреугольная матрица, $D$ - диагональная."
      ],
      "metadata": {
        "id": "fX9J-W71WKEN"
      }
    },
    {
      "cell_type": "code",
      "source": [
        "def ldlt_count_full(C: List[List[float]], x: float, eps: float = 1e-6) -> int:\n",
        "    n = len(C)\n",
        "    A = [[C[i][j] if i != j else C[i][i] - x for j in range(n)] for i in range(n)]\n",
        "    L = [[1 if i == j else 0 for j in range(n)] for i in range(n)]\n",
        "    D = [0 for _ in range(n)]\n",
        "    for k in range(n):\n",
        "        sum_LDL = sum(L[k][j] ** 2 * D[j] for j in range(k))\n",
        "        Dk = A[k][k] - sum_LDL\n",
        "        Dk = Dk if abs(Dk) > eps else eps\n",
        "        D[k] = Dk\n",
        "        for i in range(k + 1, n):\n",
        "            sum_LDL = sum(L[i][j] * L[k][j] * D[j] for j in range(k))\n",
        "            L[i][k] = (A[i][k] - sum_LDL) / Dk\n",
        "    return sum(1 if e < 0 else 0 for e in D)"
      ],
      "metadata": {
        "id": "rTMm_k39WKQZ"
      },
      "execution_count": 74,
      "outputs": []
    },
    {
      "cell_type": "markdown",
      "source": [
        "С помощью вышеописанной функции локализуем корни, находя промежутки, в которых находятся только лишь они - и запускаем solver для каждого из промежутка, то есть пользуемся бисекцией"
      ],
      "metadata": {
        "id": "Hd4f82SyWmmr"
      }
    },
    {
      "cell_type": "code",
      "source": [
        "def localize_eigenvalues(matrix: List[List[float]], a: float, b: float) -> List[Tuple[float, float]]:\n",
        "    stack = [(a, b)]\n",
        "    fstack = []\n",
        "    while stack:\n",
        "        a_curr, b_curr = stack.pop()\n",
        "        und_a = ldlt_count_full(matrix, a_curr)\n",
        "        und_b = ldlt_count_full(matrix, b_curr)\n",
        "        n_roots = und_b - und_a\n",
        "        if n_roots == 0:\n",
        "            continue\n",
        "        if n_roots == 1:\n",
        "            fstack.append((a_curr, b_curr))\n",
        "        else:\n",
        "            mid = (a_curr + b_curr) / 2\n",
        "            stack.append((a_curr, mid))\n",
        "            stack.append((mid, b_curr))\n",
        "    return fstack\n",
        "\n",
        "\n",
        "def find_eigenvalues(matrix: List[List[float]], tol=1e-6) -> List[float]:\n",
        "    a, b = 0, get_trace(matrix)\n",
        "    fstack = localize_eigenvalues(matrix, a, b)\n",
        "    eigenvalues = []\n",
        "    for section in fstack:\n",
        "        root = solver(char_polinom_value, matrix, section[0], section[1], tol)\n",
        "        eigenvalues.append(root)\n",
        "    return eigenvalues"
      ],
      "metadata": {
        "id": "jXZT3fs-Wmyo"
      },
      "execution_count": 75,
      "outputs": []
    },
    {
      "cell_type": "markdown",
      "source": [
        "Находим собственные вектора через решение СЛАУ вида $A - \\lambda I$ для всех $\\lambda$"
      ],
      "metadata": {
        "id": "vdkSF9WYW5Nd"
      }
    },
    {
      "cell_type": "code",
      "source": [
        "def find_sorted_eigenvectors(matrix: List[List[float]], eigenvalues: List[float], tol=1e-6) -> List[List[float]]:\n",
        "    eigenvectors = []\n",
        "    for eigenvalue in sorted(eigenvalues, reverse=True):\n",
        "        A = deepcopy(matrix)\n",
        "        for i in range(len(A)):\n",
        "            if abs(A[i][i] - eigenvalue) < tol:\n",
        "                A[i][i] = 0\n",
        "            else:\n",
        "                A[i][i] -= eigenvalue\n",
        "        fsr = find_fsr(gauss(A)[0])\n",
        "        eigenvectors.extend(fsr)\n",
        "    return eigenvectors"
      ],
      "metadata": {
        "id": "-bqK5NDVW5U9"
      },
      "execution_count": 76,
      "outputs": []
    },
    {
      "cell_type": "markdown",
      "source": [
        "Теперь считаем проекцию на k главных компонент"
      ],
      "metadata": {
        "id": "T3IIVvm8XlEm"
      }
    },
    {
      "cell_type": "code",
      "source": [
        "def find_k_main_projection(matrix: List[List[float]], sorted_eigenvectors: List[List[float]], k: int) -> List[List[float]]:\n",
        "    Vk = transpose([normalize(vec) for vec in sorted_eigenvectors[:k]])\n",
        "    X_proj = matrix_multiplication(matrix, Vk)\n",
        "    return X_proj"
      ],
      "metadata": {
        "id": "AVLlHwwpXlQ7"
      },
      "execution_count": 77,
      "outputs": []
    },
    {
      "cell_type": "markdown",
      "source": [
        "Рассчитываем долю обусловленной дисперсии (для сортированных собственных значений)"
      ],
      "metadata": {
        "id": "oRFfcxovXzeX"
      }
    },
    {
      "cell_type": "code",
      "source": [
        "def explained_variance_ratio(eigenvalues: List[float], k: int) -> float:\n",
        "    eigs = sorted(eigenvalues, reverse=True)\n",
        "    return sum(eigs[0:k]) / sum(eigs[0:len(eigenvalues)])"
      ],
      "metadata": {
        "id": "6sSLfikyXzys"
      },
      "execution_count": 78,
      "outputs": []
    },
    {
      "cell_type": "markdown",
      "source": [
        "# III. Hard level"
      ],
      "metadata": {
        "id": "xdqBTVBAYIKt"
      }
    },
    {
      "cell_type": "markdown",
      "source": [
        "Собираем все функции воедино в PCA-функции (сразу встраиваем туда автоподбор k для порга дисперсии)"
      ],
      "metadata": {
        "id": "u__HSPyOYS1T"
      }
    },
    {
      "cell_type": "code",
      "source": [
        "def pca(X: List[List[float]], k: int = 0, threshold: float = 0.95) -> Tuple[List[List], float, int, List[List], List[float]]:\n",
        "    X_c = center_data(X)\n",
        "    C = covariance_matrix(X_c)\n",
        "    eigenvalues = find_eigenvalues(C)\n",
        "    sorted_eigenvectors = find_sorted_eigenvectors(C, eigenvalues)\n",
        "    if k == 0:\n",
        "        k = auto_select_k(eigenvalues, threshold=threshold)\n",
        "    X_proj = find_k_main_projection(X_c, sorted_eigenvectors, k)\n",
        "    explained_variance = explained_variance_ratio(eigenvalues, k)\n",
        "    return X_proj, explained_variance, k, sorted_eigenvectors, mean(X)\n",
        "\n",
        "\n",
        "def auto_select_k(eigenvalues: List[float], threshold: float) -> int:\n",
        "    for i in range(len(eigenvalues)):\n",
        "        if explained_variance_ratio(eigenvalues, i) >= threshold:\n",
        "            return i"
      ],
      "metadata": {
        "id": "rT2SClA9YIWF"
      },
      "execution_count": 79,
      "outputs": []
    },
    {
      "cell_type": "markdown",
      "source": [
        "Визуализируем результаты на 2 компонентах"
      ],
      "metadata": {
        "id": "ZOVbLeXFYXsT"
      }
    },
    {
      "cell_type": "code",
      "source": [
        "def plot_pca_projection(X_proj: List[List[float]], y=None, class_names=None, title=None) -> Figure:\n",
        "    k = len(X_proj[0])\n",
        "    data = X_proj\n",
        "    if k == 2:\n",
        "        fig, ax = plt.subplots(figsize=(7, 5))\n",
        "        x = [row[0] for row in data]\n",
        "        y2 = [row[1] for row in data]\n",
        "        if y is not None:\n",
        "            y_list = list(y)\n",
        "            scatter = ax.scatter(x, y2, c=y_list, cmap='viridis', edgecolor='k', s=50, alpha=0.8)\n",
        "            if class_names is not None:\n",
        "                handles = []\n",
        "                unique = sorted(set(y_list))\n",
        "                for i, cl in enumerate(unique):\n",
        "                    handles.append(\n",
        "                        plt.Line2D([], [], marker='o', color='w',\n",
        "                                   markerfacecolor=plt.cm.viridis(i / max(1, len(unique) - 1)),\n",
        "                                   markeredgecolor='k', markersize=8,\n",
        "                                   label=str(class_names[cl] if cl < len(class_names) else cl))\n",
        "                    )\n",
        "                ax.legend(handles=handles, title=\"Класс\")\n",
        "            else:\n",
        "                fig.colorbar(scatter, ax=ax, label='Class')\n",
        "        else:\n",
        "            ax.scatter(x, y2, c='blue', edgecolor='k', s=50, alpha=0.8)\n",
        "        ax.set_xlabel('PC1')\n",
        "        ax.set_ylabel('PC2')\n",
        "        if title is not None:\n",
        "            ax.set_title(title)\n",
        "        else:\n",
        "            ax.set_title('PCA Projection onto First Two Components')\n",
        "        ax.grid(True)\n",
        "        return fig"
      ],
      "metadata": {
        "id": "0D3eThcRYXy7"
      },
      "execution_count": 80,
      "outputs": []
    },
    {
      "cell_type": "markdown",
      "source": [
        "Реконструируем исходную матрицу по формуле, полученной нехитрыми алгебраическими преобразованиями, а после - считаем ошибку после восстановления"
      ],
      "metadata": {
        "id": "umHHepVNZDaE"
      }
    },
    {
      "cell_type": "code",
      "source": [
        "def reconstruction(X_proj: List[List[float]], Vk: List[List[float]], means: List[List[float]]) -> float:\n",
        "    X = matrix_multiplication(X_proj, transpose(Vk))\n",
        "    for i, mean in enumerate(means):\n",
        "        for j in range(len(X[0])):\n",
        "            X[i][j] += mean\n",
        "    return X\n",
        "\n",
        "\n",
        "def reconstruction_error(X_orig: List[List[float]], X_recon: List[List]) -> float:\n",
        "    n, m = len(X_orig), len(X_orig[0])\n",
        "    mse = 0\n",
        "    for i in range(n):\n",
        "        for j in range(m):\n",
        "            mse += (X_orig[i][j] - X_recon[i][j])**2\n",
        "    return mse / (m + n)"
      ],
      "metadata": {
        "id": "mGnAluvDZTZS"
      },
      "execution_count": 81,
      "outputs": []
    },
    {
      "cell_type": "markdown",
      "source": [
        "# IV. Expert level"
      ],
      "metadata": {
        "id": "Y7XNJnPAZcAN"
      }
    },
    {
      "cell_type": "markdown",
      "source": [
        "Экспериментировать будем на датасете ирисов"
      ],
      "metadata": {
        "id": "Fc8lt_EjZhfm"
      }
    },
    {
      "cell_type": "markdown",
      "source": [
        "Для начала реализуем ленивую модель knn, а также подсчет метрики точности"
      ],
      "metadata": {
        "id": "8AbEXLC9Z1Zc"
      }
    },
    {
      "cell_type": "code",
      "source": [
        "def euclid(a: float, b: float) -> float:\n",
        "        return sum((x - y) ** 2 for x, y in zip(a, b)) ** 0.5\n",
        "\n",
        "\n",
        "def knn_predict(X_train: List[List[float]], y_train: List[float], X_test: List[List[float]], k_neighbors=3) -> List[float]:\n",
        "    preds = []\n",
        "    for test_vec in X_test:\n",
        "        dists = sorted([(euclid(test_vec, train_vec), y) for train_vec, y in zip(X_train, y_train)])\n",
        "        high_k = [y for _, y in dists[:k_neighbors]]\n",
        "        preds.append(max(set(high_k), key=high_k.count))\n",
        "    return preds\n",
        "\n",
        "\n",
        "def accuracy_score(X: List[List[float]], y: List[float], k_neighbors=3) -> Tuple[float, int]:\n",
        "    X_train, X_test, y_train, y_test = train_test_split(X, y, test_size=0.3, random_state=42)\n",
        "    X_train_list = [list(row) for row in X_train]\n",
        "    X_test_list = [list(row) for row in X_test]\n",
        "    y_pred = knn_predict(X_train_list, y_train, X_test_list, k_neighbors=k_neighbors)\n",
        "    acc = sum(yt == yp for yt, yp in zip(y_test, y_pred)) / len(y_test)\n",
        "    dim = len(X_train_list[0])\n",
        "    return acc, dim"
      ],
      "metadata": {
        "id": "jeJhXWVXZc9i"
      },
      "execution_count": 82,
      "outputs": []
    },
    {
      "cell_type": "markdown",
      "source": [
        "Реализуем функции обработки NaN (с заменой на среднее по столбцу) и добавление шума (по Гауссу, каждому значению в диапазоне от 0 до $σ * noise\\_level$)"
      ],
      "metadata": {
        "id": "f7_izi5GarjK"
      }
    },
    {
      "cell_type": "code",
      "source": [
        "def handle_missing_values(X: List[List[float]]) -> List[List[float]]:\n",
        "    Xn = deepcopy(X)\n",
        "    mean_cols = []\n",
        "    for i in range(len(X[0])):\n",
        "        c = [e for e in get_col(X, i) if not math.isnan(e)]\n",
        "        if len(c) != 0:\n",
        "            mean_cols += [sum(c) / len(c)]\n",
        "        else:\n",
        "            mean_cols += [0]\n",
        "    for i in range(len(X)):\n",
        "        for j in range(len(X[0])):\n",
        "            if math.isnan(X[i][j]):\n",
        "                Xn[i][j] = mean_cols[j]\n",
        "            else:\n",
        "                Xn[i][j] = X[i][j]\n",
        "    return Xn\n",
        "\n",
        "\n",
        "def add_noise_and_compare(X: List[List[float]], noise_level: float = 0.1, threshold: float = 0.95):\n",
        "    n, m = len(X), len(X[0])\n",
        "    means = []\n",
        "    stds = []\n",
        "    for j in range(m):\n",
        "        col = [X[i][j] for i in range(n)]\n",
        "        mean = sum(col) / n\n",
        "        means.append(mean)\n",
        "        variance = sum((x - mean) ** 2 for x in col) / n\n",
        "        stds.append(variance ** 0.5)\n",
        "\n",
        "    X_noisy_data = []\n",
        "    for i in range(n):\n",
        "        row = []\n",
        "        for j in range(m):\n",
        "            row.append(X[i][j] + random.gauss(0, stds[j] * noise_level))\n",
        "        X_noisy_data.append(row)\n",
        "\n",
        "    X_proj, gamma, _, _, _ = pca(X, threshold=threshold)\n",
        "    X_proj_noisy, gamma_noisy, _, _, _ = pca(X_noisy_data, threshold=threshold)\n",
        "\n",
        "    return {\n",
        "        'X_proj': X_proj,\n",
        "        'gamma': gamma,\n",
        "        'X_proj_noisy': X_proj_noisy,\n",
        "        'gamma_noisy': gamma_noisy,\n",
        "    }"
      ],
      "metadata": {
        "id": "OqzSfiI4arqD"
      },
      "execution_count": 83,
      "outputs": []
    },
    {
      "cell_type": "markdown",
      "source": [
        "Теперь, наконец, посмотрим на результат наших трудов:"
      ],
      "metadata": {
        "id": "dnI0rcBvbauw"
      }
    },
    {
      "cell_type": "code",
      "source": [
        "iris = load_iris()\n",
        "print(\"\\n=== PCA на датасете iris ===\")\n",
        "_, dim_iris = accuracy_score(iris.data, iris.target)\n",
        "print(f\"Размерность исходных данных: {dim_iris}\")\n",
        "\n",
        "X = iris.data\n",
        "y = iris.target\n",
        "class_names = iris.target_names\n",
        "X_train, X_test, y_train, y_test = train_test_split(X, y, test_size=0.3, random_state=42)\n",
        "X_train_mat = [list(row) for row in X_train]\n",
        "X_test_mat = [list(row) for row in X_test]\n",
        "X_train_proj, gamma, k, sorted_eigenvectors, means = pca(X_train_mat, threshold=0.95)\n",
        "X_test_centered = center_data(X_test_mat)\n",
        "X_test_proj = find_k_main_projection(X_test_centered, sorted_eigenvectors, k)\n",
        "y_pred_pca = knn_predict(X_train_proj, y_train, X_test_proj)\n",
        "acc_pca = sum(yt == yp for yt, yp in zip(y_test, y_pred_pca)) / len(y_test)\n",
        "print(f\"Размерность после PCA: {len(X_train_proj[0])}\")\n",
        "print(f\"Оптимальное число компонент (k): {k}\")\n",
        "print(f\"Точность после применения PCA (iris): {acc_pca:.4f}\")\n",
        "print(f\"Обусловленная дисперсия k компонент: {gamma}\")\n",
        "\n",
        "X_full_mat = [list(row) for row in X]\n",
        "observations = add_noise_and_compare(X_full_mat)\n",
        "print(f\"Реакция датасета на шум: {observations['gamma']} - было, {observations['gamma_noisy']} - стало\")\n",
        "X_full_proj, _, _, _, _ = pca(X_full_mat, k=k, threshold=0.95)\n",
        "fig = plot_pca_projection(X_full_proj, y=y, class_names=class_names, title=\"PCA Projection (iris)\")\n",
        "plt.show()"
      ],
      "metadata": {
        "colab": {
          "base_uri": "https://localhost:8080/",
          "height": 626
        },
        "id": "DZi2GtY5bbEG",
        "outputId": "0f5ab7ef-7c0f-4a19-8363-d86c616efb66"
      },
      "execution_count": 84,
      "outputs": [
        {
          "output_type": "stream",
          "name": "stdout",
          "text": [
            "\n",
            "=== PCA на датасете iris ===\n",
            "Размерность исходных данных: 4\n",
            "Размерность после PCA: 2\n",
            "Оптимальное число компонент (k): 2\n",
            "Точность после применения PCA (iris): 0.8889\n",
            "Обусловленная дисперсия k компонент: 0.9746808460469274\n",
            "Реакция датасета на шум: 0.9776854393339786 - было, 0.9747311570120493 - стало\n"
          ]
        },
        {
          "output_type": "display_data",
          "data": {
            "text/plain": [
              "<Figure size 700x500 with 1 Axes>"
            ],
            "image/png": "[encoded data removed]"
          },
          "metadata": {}
        }
      ]
    }
  ]
}